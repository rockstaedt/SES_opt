{
 "cells": [
  {
   "cell_type": "code",
   "execution_count": 30,
   "metadata": {},
   "outputs": [],
   "source": [
    "import pyomo.environ as pyo\n",
    "from pyomo.opt import SolverFactory\n",
    "from pyomo.core import Var\n",
    "import numpy as np"
   ]
  },
  {
   "cell_type": "code",
   "execution_count": 41,
   "metadata": {},
   "outputs": [],
   "source": [
    "lmda = 21.97 #cent/kWh retail electricity price\n",
    "pl = [8,8,10,10,10,16,22,24,26,32,30,28,22,18,16,16,20,24,28,34,38,30,22,12] #load values\n",
    "\n",
    "# fuel cost parameters\n",
    "c2 = np.array([1.2,1.12])*0.001\n",
    "c1 = np.array([0.128,0.532])\n",
    "c  = np.array([2.12,12.8])*0.0001\n",
    "\n",
    "# min max power values\n",
    "pmin = np.array([0,0])\n",
    "pmax = np.array([20,40])"
   ]
  },
  {
   "cell_type": "code",
   "execution_count": 38,
   "metadata": {},
   "outputs": [
    {
     "output_type": "stream",
     "name": "stdout",
     "text": [
      "Using license file /Users/Eric/gurobi.lic\n",
      "Academic license - for non-commercial use only\n",
      "Read LP format model from file /var/folders/_d/mv3l2b350l32gxgk9ndhl2ww0000gn/T/tmpttsd8b26.pyomo.lp\n",
      "Reading time = 0.00 seconds\n",
      "x121: 121 rows, 121 columns, 217 nonzeros\n",
      "Gurobi Optimizer version 9.0.3 build v9.0.3rc0 (mac64)\n",
      "Optimize a model with 121 rows, 121 columns and 217 nonzeros\n",
      "Model fingerprint: 0xb40faf7f\n",
      "Model has 48 quadratic objective terms\n",
      "Variable types: 73 continuous, 48 integer (48 binary)\n",
      "Coefficient statistics:\n",
      "  Matrix range     [1e+00, 4e+01]\n",
      "  Objective range  [2e-04, 2e+01]\n",
      "  QObjective range [3e-01, 1e+00]\n",
      "  Bounds range     [1e+00, 1e+00]\n",
      "  RHS range        [1e+00, 4e+01]\n",
      "Found heuristic solution: objective 11072.915808\n",
      "Presolve removed 118 rows and 117 columns\n",
      "Presolve time: 0.01s\n",
      "Presolved: 5 rows, 6 columns, 13 nonzeros\n",
      "Found heuristic solution: objective 713.8415680\n",
      "Variable types: 4 continuous, 2 integer (2 binary)\n",
      "\n",
      "Root relaxation: objective 1.055305e+02, 3 iterations, 0.00 seconds\n",
      "\n",
      "    Nodes    |    Current Node    |     Objective Bounds      |     Work\n",
      " Expl Unexpl |  Obj  Depth IntInf | Incumbent    BestBd   Gap | It/Node Time\n",
      "\n",
      "*    0     0               0     105.5305280  105.53053  0.00%     -    0s\n",
      "\n",
      "Explored 0 nodes (3 simplex iterations) in 0.01 seconds\n",
      "Thread count was 8 (of 8 available processors)\n",
      "\n",
      "Solution count 2: 105.531 11072.9 \n",
      "\n",
      "Optimal solution found (tolerance 1.00e-04)\n",
      "Best objective 1.055305280000e+02, best bound 1.055305280000e+02, gap 0.0000%\n",
      "# ==========================================================\n",
      "# = Solver Results                                         =\n",
      "# ==========================================================\n",
      "# ----------------------------------------------------------\n",
      "#   Problem Information\n",
      "# ----------------------------------------------------------\n",
      "Problem: \n",
      "- Name: x121\n",
      "  Lower bound: 105.53052800000002\n",
      "  Upper bound: 105.53052800000002\n",
      "  Number of objectives: 1\n",
      "  Number of constraints: 121\n",
      "  Number of variables: 121\n",
      "  Number of binary variables: 48\n",
      "  Number of integer variables: 48\n",
      "  Number of continuous variables: 73\n",
      "  Number of nonzeros: 217\n",
      "  Sense: minimize\n",
      "# ----------------------------------------------------------\n",
      "#   Solver Information\n",
      "# ----------------------------------------------------------\n",
      "Solver: \n",
      "- Status: ok\n",
      "  Return code: 0\n",
      "  Message: Model was solved to optimality (subject to tolerances), and an optimal solution is available.\n",
      "  Termination condition: optimal\n",
      "  Termination message: Model was solved to optimality (subject to tolerances), and an optimal solution is available.\n",
      "  Wall time: 0.013175010681152344\n",
      "  Error rc: 0\n",
      "  Time: 0.08184814453125\n",
      "# ----------------------------------------------------------\n",
      "#   Solution Information\n",
      "# ----------------------------------------------------------\n",
      "Solution: \n",
      "- number of solutions: 0\n",
      "  number of solutions displayed: 0\n"
     ]
    }
   ],
   "source": [
    "# Dont properly understand between Concrete and Abstract model\n",
    "model = pyo.ConcreteModel()\n",
    "\n",
    "#Hour Set\n",
    "model.H = pyo.RangeSet(0,23)\n",
    "\n",
    "#Generator Set\n",
    "model.G = pyo.RangeSet(0,1)\n",
    "\n",
    "#Variables\n",
    "model.pn = pyo.Var(model.H) #Net power needed from external network dependent on Hourly Set\n",
    "model.pg = pyo.Var(model.H,model.G, within=pyo.NonNegativeReals) #Power Generation of each Generator per Hour\n",
    "model.u = pyo.Var(model.H,model.G, within=pyo.Binary) # Unit commitment Variable for each Generator and Hour\n",
    "\n",
    "\n",
    "#Objective Function: First Part is Net power cost with DisCo, Second part is fuel costs\n",
    "def obj_rule(model):\n",
    "    return sum(lmda*model.pn[h] for h in model.H) + sum(((c2[g]*model.pg[h,g] + c1[g]*model.pg[h,g] + c[g])*model.u[h,g] for h in model.H for g in model.G))\n",
    "model.OBJ = pyo.Objective(rule=obj_rule)\n",
    "\n",
    "\n",
    "#Load Constraint\n",
    "def loadc(model,H):\n",
    "    return sum(model.pg[H,g] for g in model.G) + model.pn[H] == pl[H]\n",
    "model.loadc = pyo.Constraint(model.H, rule = loadc)\n",
    "\n",
    "#Min-Constraint\n",
    "def minc(model,H,G):\n",
    "    return model.u[H,G]*pmin[G] <= model.pg[H,G] \n",
    "model.minc = pyo.Constraint(model.H,model.G, rule = minc)\n",
    "\n",
    "#Max-Constraint\n",
    "def maxc(model,H,G):\n",
    "    return model.u[H,G]*pmax[G] >= model.pg[H,G] \n",
    "model.maxc = pyo.Constraint(model.H,model.G, rule = maxc)\n",
    "\n",
    "\n",
    "#SolverFactory('gurobi').solve(model).write()\n",
    "opt = SolverFactory('gurobi')\n",
    "results = opt.solve(model, tee=True)\n",
    "results.write()\n",
    "model.solutions.load_from(results)"
   ]
  },
  {
   "cell_type": "code",
   "execution_count": 39,
   "metadata": {},
   "outputs": [
    {
     "output_type": "stream",
     "name": "stdout",
     "text": [
      "Variable pn\n    0 0.0\n    1 0.0\n    2 0.0\n    3 0.0\n    4 0.0\n    5 0.0\n    6 0.0\n    7 0.0\n    8 0.0\n    9 0.0\n    10 0.0\n    11 0.0\n    12 0.0\n    13 0.0\n    14 0.0\n    15 0.0\n    16 0.0\n    17 0.0\n    18 0.0\n    19 0.0\n    20 0.0\n    21 0.0\n    22 0.0\n    23 0.0\nVariable pg\n    (0, 0) 8.0\n    (0, 1) 0.0\n    (1, 0) 8.0\n    (1, 1) 0.0\n    (2, 0) 10.0\n    (2, 1) 0.0\n    (3, 0) 10.0\n    (3, 1) 0.0\n    (4, 0) 10.0\n    (4, 1) 0.0\n    (5, 0) 16.0\n    (5, 1) 0.0\n    (6, 0) 20.0\n    (6, 1) 2.0\n    (7, 0) 20.0\n    (7, 1) 4.0\n    (8, 0) 20.0\n    (8, 1) 6.0\n    (9, 0) 20.0\n    (9, 1) 12.0\n    (10, 0) 20.0\n    (10, 1) 10.0\n    (11, 0) 20.0\n    (11, 1) 8.0\n    (12, 0) 20.0\n    (12, 1) 2.0\n    (13, 0) 18.0\n    (13, 1) 0.0\n    (14, 0) 16.0\n    (14, 1) 0.0\n    (15, 0) 16.0\n    (15, 1) 0.0\n    (16, 0) 20.0\n    (16, 1) 0.0\n    (17, 0) 20.0\n    (17, 1) 4.0\n    (18, 0) 20.0\n    (18, 1) 8.0\n    (19, 0) 20.0\n    (19, 1) 14.0\n    (20, 0) 20.0\n    (20, 1) 18.0\n    (21, 0) 20.0\n    (21, 1) 10.0\n    (22, 0) 20.0\n    (22, 1) 2.0\n    (23, 0) 12.0\n    (23, 1) 0.0\nVariable u\n    (0, 0) 1.0\n    (0, 1) 0.0\n    (1, 0) 1.0\n    (1, 1) 0.0\n    (2, 0) 1.0\n    (2, 1) 0.0\n    (3, 0) 1.0\n    (3, 1) 0.0\n    (4, 0) 1.0\n    (4, 1) 0.0\n    (5, 0) 1.0\n    (5, 1) 0.0\n    (6, 0) 1.0\n    (6, 1) 1.0\n    (7, 0) 1.0\n    (7, 1) 1.0\n    (8, 0) 1.0\n    (8, 1) 1.0\n    (9, 0) 1.0\n    (9, 1) 1.0\n    (10, 0) 1.0\n    (10, 1) 1.0\n    (11, 0) 1.0\n    (11, 1) 1.0\n    (12, 0) 1.0\n    (12, 1) 1.0\n    (13, 0) 1.0\n    (13, 1) 0.0\n    (14, 0) 1.0\n    (14, 1) 0.0\n    (15, 0) 1.0\n    (15, 1) 0.0\n    (16, 0) 1.0\n    (16, 1) 0.0\n    (17, 0) 1.0\n    (17, 1) 1.0\n    (18, 0) 1.0\n    (18, 1) 1.0\n    (19, 0) 1.0\n    (19, 1) 1.0\n    (20, 0) 1.0\n    (20, 1) 1.0\n    (21, 0) 1.0\n    (21, 1) 1.0\n    (22, 0) 1.0\n    (22, 1) 1.0\n    (23, 0) 1.0\n    (23, 1) 0.0\n"
     ]
    }
   ],
   "source": [
    "for v in model.component_objects(Var, active=True):\n",
    "    print (\"Variable\", v)\n",
    "    varobject = getattr(model, str(v))\n",
    "    for index in varobject:\n",
    "        print (\"   \",index, varobject[index].value)"
   ]
  },
  {
   "cell_type": "code",
   "execution_count": null,
   "metadata": {},
   "outputs": [],
   "source": []
  }
 ],
 "metadata": {
  "kernelspec": {
   "display_name": "Python 3",
   "language": "python",
   "name": "python3"
  },
  "language_info": {
   "codemirror_mode": {
    "name": "ipython",
    "version": 3
   },
   "file_extension": ".py",
   "mimetype": "text/x-python",
   "name": "python",
   "nbconvert_exporter": "python",
   "pygments_lexer": "ipython3",
   "version": "3.7.6-final"
  }
 },
 "nbformat": 4,
 "nbformat_minor": 4
}