{
 "metadata": {
  "language_info": {
   "codemirror_mode": {
    "name": "ipython",
    "version": 3
   },
   "file_extension": ".py",
   "mimetype": "text/x-python",
   "name": "python",
   "nbconvert_exporter": "python",
   "pygments_lexer": "ipython3",
   "version": "3.7.6-final"
  },
  "orig_nbformat": 2,
  "kernelspec": {
   "name": "python3",
   "display_name": "Python 3",
   "language": "python"
  }
 },
 "nbformat": 4,
 "nbformat_minor": 2,
 "cells": [
  {
   "cell_type": "code",
   "execution_count": 3,
   "metadata": {},
   "outputs": [],
   "source": [
    "import numpy as np\n",
    "from pyDOE import *\n",
    "from scipy.stats.distributions import norm"
   ]
  },
  {
   "cell_type": "code",
   "execution_count": 4,
   "metadata": {},
   "outputs": [],
   "source": [
    "LOADS = [0,8,8,10,10,10,16,22,24,26,32,30,28,22,18,16,16,20,24,28,34,38,30,22,12]"
   ]
  },
  {
   "cell_type": "code",
   "execution_count": 171,
   "metadata": {},
   "outputs": [],
   "source": [
    "### LATIN HYPERCUBE SAMPLING ###"
   ]
  },
  {
   "cell_type": "code",
   "execution_count": 176,
   "metadata": {},
   "outputs": [
    {
     "output_type": "stream",
     "name": "stdout",
     "text": [
      "[[0.70674788]\n [0.452663  ]\n [0.80291499]\n [0.03083257]\n [0.34800994]]\n----------------\n[[8.88819933]\n [7.80577821]\n [9.39143986]\n [4.9484324 ]\n [7.36199151]]\n"
     ]
    }
   ],
   "source": [
    "### Test Example ###\n",
    "\n",
    "np.random.seed(12)                                      #seed must be called before each operation for consistent results\n",
    "s = 8                                                   #s is the center/mean of the distribution for fitting\n",
    "\n",
    "lhd = lhs(1, samples=5)                                 #lhd is created\n",
    "lhd_fit = norm(loc=s, scale=np.sqrt((1/3)*s)).ppf(lhd)  #lhd is fitted to new mean and std\n",
    "\n",
    "print(lhd)\n",
    "print('----------------')\n",
    "print(lhd_fit)"
   ]
  },
  {
   "cell_type": "code",
   "execution_count": 212,
   "metadata": {},
   "outputs": [],
   "source": [
    "samples_vector = []\n",
    "main_array = []\n",
    "sample_size = 5\n",
    "\n",
    "for number,i in enumerate(LOADS):\n",
    "    if i == 0 :\n",
    "        lhd = np.zeros(sample_size)          #scipy.norm cant handle 0 resulting in NaN, therefore we create array of zeros\n",
    "        lhd = lhd.reshape(sample_size,1)\n",
    "    else:\n",
    "        np.random.seed(number)\n",
    "        lhd = lhs(1, samples=sample_size)\n",
    "        lhd = np.array(norm(loc=i, scale=np.sqrt((1/3)*i)).ppf(lhd)) \n",
    "\n",
    "    main_array.append(lhd)\n",
    "\n",
    "main_array = np.array(main_array)\n",
    "\n",
    "for i in range(len(main_array[0])):\n",
    "    samples_vector.append(main_array[:,i])\n",
    "\n"
   ]
  },
  {
   "cell_type": "code",
   "execution_count": 213,
   "metadata": {},
   "outputs": [
    {
     "output_type": "execute_result",
     "data": {
      "text/plain": [
       "[array([[ 0.        ],\n",
       "        [ 7.5863826 ],\n",
       "        [ 5.782057  ],\n",
       "        [ 7.76222492],\n",
       "        [12.83167392],\n",
       "        [ 9.4141357 ],\n",
       "        [13.87345575],\n",
       "        [23.781553  ],\n",
       "        [24.52652956],\n",
       "        [24.45938024],\n",
       "        [32.21898928],\n",
       "        [33.78028573],\n",
       "        [29.66166879],\n",
       "        [20.15218243],\n",
       "        [18.45752882],\n",
       "        [17.0306727 ],\n",
       "        [18.62484911],\n",
       "        [18.69122558],\n",
       "        [29.33836857],\n",
       "        [31.38811334],\n",
       "        [32.9675548 ],\n",
       "        [41.55667066],\n",
       "        [32.35560665],\n",
       "        [18.58226482],\n",
       "        [10.25892568]]),\n",
       " array([[ 0.        ],\n",
       "        [ 8.67562915],\n",
       "        [ 9.95240584],\n",
       "        [13.69794813],\n",
       "        [11.19131092],\n",
       "        [12.31587132],\n",
       "        [16.37352914],\n",
       "        [29.09381598],\n",
       "        [26.88988908],\n",
       "        [25.99376196],\n",
       "        [36.1799791 ],\n",
       "        [32.08329759],\n",
       "        [27.63664431],\n",
       "        [28.88914607],\n",
       "        [18.6307804 ],\n",
       "        [15.47969011],\n",
       "        [16.05870654],\n",
       "        [19.59909409],\n",
       "        [24.98646329],\n",
       "        [26.84136249],\n",
       "        [36.41219474],\n",
       "        [38.94155256],\n",
       "        [24.52489932],\n",
       "        [23.09098521],\n",
       "        [11.17454103]]),\n",
       " array([[ 0.        ],\n",
       "        [ 9.5539635 ],\n",
       "        [ 8.79616023],\n",
       "        [ 9.25506115],\n",
       "        [ 9.09183947],\n",
       "        [ 9.73058807],\n",
       "        [16.63506993],\n",
       "        [21.91637131],\n",
       "        [25.53366768],\n",
       "        [17.56109082],\n",
       "        [34.20041628],\n",
       "        [27.38230185],\n",
       "        [30.60314562],\n",
       "        [19.25690097],\n",
       "        [20.66776239],\n",
       "        [13.7942908 ],\n",
       "        [16.63976692],\n",
       "        [15.96230177],\n",
       "        [22.52563657],\n",
       "        [28.99464242],\n",
       "        [36.92058737],\n",
       "        [29.68602703],\n",
       "        [29.87399315],\n",
       "        [24.74026089],\n",
       "        [12.50655681]]),\n",
       " array([[ 0.        ],\n",
       "        [ 7.34452575],\n",
       "        [ 6.65565174],\n",
       "        [10.96880985],\n",
       "        [ 8.41997855],\n",
       "        [ 6.89299536],\n",
       "        [18.12745872],\n",
       "        [21.0001612 ],\n",
       "        [23.23726586],\n",
       "        [26.95176891],\n",
       "        [29.29939645],\n",
       "        [24.31284468],\n",
       "        [22.29103977],\n",
       "        [22.44219664],\n",
       "        [17.08672728],\n",
       "        [18.44443983],\n",
       "        [12.07629384],\n",
       "        [20.74532271],\n",
       "        [24.54010749],\n",
       "        [27.61137088],\n",
       "        [30.00417335],\n",
       "        [38.39506485],\n",
       "        [28.30828465],\n",
       "        [21.23931193],\n",
       "        [12.73841496]]),\n",
       " array([[ 0.        ],\n",
       "        [ 5.74233677],\n",
       "        [ 8.04066095],\n",
       "        [ 9.80826509],\n",
       "        [10.43677454],\n",
       "        [11.43288955],\n",
       "        [14.55951158],\n",
       "        [16.14193919],\n",
       "        [21.35313367],\n",
       "        [28.79068544],\n",
       "        [28.67419697],\n",
       "        [29.94168589],\n",
       "        [26.80639542],\n",
       "        [24.21352755],\n",
       "        [14.89938556],\n",
       "        [14.3373564 ],\n",
       "        [14.81961333],\n",
       "        [24.44424344],\n",
       "        [20.81508533],\n",
       "        [21.69423807],\n",
       "        [34.66509306],\n",
       "        [35.6863666 ],\n",
       "        [33.07065353],\n",
       "        [22.36145762],\n",
       "        [14.2738126 ]])]"
      ]
     },
     "metadata": {},
     "execution_count": 213
    }
   ],
   "source": [
    "samples_vector"
   ]
  },
  {
   "cell_type": "code",
   "execution_count": 19,
   "metadata": {},
   "outputs": [],
   "source": [
    "def get_lhs_sample(sample_size = 1000,loads = LOADS):\n",
    "    samples_vector = []\n",
    "    main_array = []\n",
    "\n",
    "    for number,i in enumerate(loads):\n",
    "        if i == 0 :\n",
    "            lhd = np.zeros(sample_size)      #scipy.norm cant handle 0 resulting in NaN, therefore we create array of zeros\n",
    "            lhd = lhd.reshape(sample_size,1)\n",
    "        else:\n",
    "            np.random.seed(number)\n",
    "            lhd = lhs(1, samples=sample_size)\n",
    "            lhd = np.array(norm(loc=i, scale=np.sqrt((1/3)*i)).ppf(lhd)) \n",
    "\n",
    "        main_array.append(lhd)\n",
    "\n",
    "    main_array = np.array(main_array)\n",
    "\n",
    "    for i in range(len(main_array[0])):\n",
    "        samples_vector.append(main_array[:,i])\n",
    "\n",
    "    return samples_vector"
   ]
  },
  {
   "cell_type": "code",
   "execution_count": 20,
   "metadata": {},
   "outputs": [
    {
     "output_type": "execute_result",
     "data": {
      "text/plain": [
       "[array([[ 0.        ],\n",
       "        [ 7.5863826 ],\n",
       "        [ 5.782057  ],\n",
       "        [ 7.76222492],\n",
       "        [12.83167392],\n",
       "        [ 9.4141357 ],\n",
       "        [13.87345575],\n",
       "        [23.781553  ],\n",
       "        [24.52652956],\n",
       "        [24.45938024],\n",
       "        [32.21898928],\n",
       "        [33.78028573],\n",
       "        [29.66166879],\n",
       "        [20.15218243],\n",
       "        [18.45752882],\n",
       "        [17.0306727 ],\n",
       "        [18.62484911],\n",
       "        [18.69122558],\n",
       "        [29.33836857],\n",
       "        [31.38811334],\n",
       "        [32.9675548 ],\n",
       "        [41.55667066],\n",
       "        [32.35560665],\n",
       "        [18.58226482],\n",
       "        [10.25892568]]),\n",
       " array([[ 0.        ],\n",
       "        [ 8.67562915],\n",
       "        [ 9.95240584],\n",
       "        [13.69794813],\n",
       "        [11.19131092],\n",
       "        [12.31587132],\n",
       "        [16.37352914],\n",
       "        [29.09381598],\n",
       "        [26.88988908],\n",
       "        [25.99376196],\n",
       "        [36.1799791 ],\n",
       "        [32.08329759],\n",
       "        [27.63664431],\n",
       "        [28.88914607],\n",
       "        [18.6307804 ],\n",
       "        [15.47969011],\n",
       "        [16.05870654],\n",
       "        [19.59909409],\n",
       "        [24.98646329],\n",
       "        [26.84136249],\n",
       "        [36.41219474],\n",
       "        [38.94155256],\n",
       "        [24.52489932],\n",
       "        [23.09098521],\n",
       "        [11.17454103]]),\n",
       " array([[ 0.        ],\n",
       "        [ 9.5539635 ],\n",
       "        [ 8.79616023],\n",
       "        [ 9.25506115],\n",
       "        [ 9.09183947],\n",
       "        [ 9.73058807],\n",
       "        [16.63506993],\n",
       "        [21.91637131],\n",
       "        [25.53366768],\n",
       "        [17.56109082],\n",
       "        [34.20041628],\n",
       "        [27.38230185],\n",
       "        [30.60314562],\n",
       "        [19.25690097],\n",
       "        [20.66776239],\n",
       "        [13.7942908 ],\n",
       "        [16.63976692],\n",
       "        [15.96230177],\n",
       "        [22.52563657],\n",
       "        [28.99464242],\n",
       "        [36.92058737],\n",
       "        [29.68602703],\n",
       "        [29.87399315],\n",
       "        [24.74026089],\n",
       "        [12.50655681]]),\n",
       " array([[ 0.        ],\n",
       "        [ 7.34452575],\n",
       "        [ 6.65565174],\n",
       "        [10.96880985],\n",
       "        [ 8.41997855],\n",
       "        [ 6.89299536],\n",
       "        [18.12745872],\n",
       "        [21.0001612 ],\n",
       "        [23.23726586],\n",
       "        [26.95176891],\n",
       "        [29.29939645],\n",
       "        [24.31284468],\n",
       "        [22.29103977],\n",
       "        [22.44219664],\n",
       "        [17.08672728],\n",
       "        [18.44443983],\n",
       "        [12.07629384],\n",
       "        [20.74532271],\n",
       "        [24.54010749],\n",
       "        [27.61137088],\n",
       "        [30.00417335],\n",
       "        [38.39506485],\n",
       "        [28.30828465],\n",
       "        [21.23931193],\n",
       "        [12.73841496]]),\n",
       " array([[ 0.        ],\n",
       "        [ 5.74233677],\n",
       "        [ 8.04066095],\n",
       "        [ 9.80826509],\n",
       "        [10.43677454],\n",
       "        [11.43288955],\n",
       "        [14.55951158],\n",
       "        [16.14193919],\n",
       "        [21.35313367],\n",
       "        [28.79068544],\n",
       "        [28.67419697],\n",
       "        [29.94168589],\n",
       "        [26.80639542],\n",
       "        [24.21352755],\n",
       "        [14.89938556],\n",
       "        [14.3373564 ],\n",
       "        [14.81961333],\n",
       "        [24.44424344],\n",
       "        [20.81508533],\n",
       "        [21.69423807],\n",
       "        [34.66509306],\n",
       "        [35.6863666 ],\n",
       "        [33.07065353],\n",
       "        [22.36145762],\n",
       "        [14.2738126 ]])]"
      ]
     },
     "metadata": {},
     "execution_count": 20
    }
   ],
   "source": [
    "test = get_lhs_sample(5,LOADS)\n",
    "test"
   ]
  },
  {
   "cell_type": "code",
   "execution_count": 53,
   "metadata": {},
   "outputs": [],
   "source": [
    "def get_av_samples(values:list, sample_size=1000, seed=12):\n",
    "    # Set seed\n",
    "    np.random.seed(seed)\n",
    "    # Covariance matrix of values. Variance was given.\n",
    "    cov_pl = np.diagflat(np.array(values)*1/3)\n",
    "    # Calculate normal distribution for half of the sample size.\n",
    "    normal_dis = np.random.multivariate_normal(values, cov_pl, size=int(sample_size/2))\n",
    "    # Calculate athetics of these sample\n",
    "    antithetics = np.array(values) - (normal_dis - np.array(values))\n",
    "    # Concatenate both samples to one.\n",
    "    samples = np.concatenate((normal_dis, antithetics))\n",
    "    return samples"
   ]
  },
  {
   "cell_type": "code",
   "execution_count": 54,
   "metadata": {},
   "outputs": [],
   "source": [
    "samples = get_av_samples(LOADS)"
   ]
  },
  {
   "cell_type": "code",
   "execution_count": 55,
   "metadata": {},
   "outputs": [
    {
     "output_type": "execute_result",
     "data": {
      "text/plain": [
       "array([[ 0.        ,  8.86113064,  9.04635852, ..., 32.38164676,\n",
       "        24.9678632 ,  9.94093959],\n",
       "       [ 0.        ,  2.86029034, 11.66087313, ..., 27.95264411,\n",
       "        20.06686803, 12.63733058],\n",
       "       [ 0.        ,  5.24400343, 10.29880981, ..., 33.16525893,\n",
       "        21.77401849,  9.66748248],\n",
       "       ...,\n",
       "       [ 0.        ,  8.85600747,  8.11690661, ..., 26.04853352,\n",
       "        26.62214792, 11.48516798],\n",
       "       [ 0.        ,  8.51965576,  8.02948311, ..., 30.10904141,\n",
       "        25.22350808, 15.70132754],\n",
       "       [ 0.        ,  8.07258063,  5.44940208, ..., 29.09858273,\n",
       "        20.76750823, 12.0158643 ]])"
      ]
     },
     "metadata": {},
     "execution_count": 55
    }
   ],
   "source": [
    "samples"
   ]
  },
  {
   "cell_type": "code",
   "execution_count": 62,
   "metadata": {},
   "outputs": [
    {
     "output_type": "execute_result",
     "data": {
      "text/plain": [
       "array([ 0.        ,  7.92741937, 10.55059792, 10.15307579,  8.73602338,\n",
       "        5.50392051, 14.4132223 , 21.88102607, 24.30763912, 32.43111823,\n",
       "       31.75242823, 32.55598258, 34.85781064, 20.33843349, 17.05565387,\n",
       "       16.73980686, 20.52910177, 20.06670768, 21.00157531, 26.54547852,\n",
       "       34.10656419, 30.82054604, 30.90141727, 23.23249177, 11.9841357 ])"
      ]
     },
     "metadata": {},
     "execution_count": 62
    }
   ],
   "source": [
    "samples[499,:]"
   ]
  },
  {
   "cell_type": "code",
   "execution_count": 61,
   "metadata": {},
   "outputs": [
    {
     "output_type": "execute_result",
     "data": {
      "text/plain": [
       "array([ 0.        ,  8.07258063,  5.44940208,  9.84692421, 11.26397662,\n",
       "       14.49607949, 17.5867777 , 22.11897393, 23.69236088, 19.56888177,\n",
       "       32.24757177, 27.44401742, 21.14218936, 23.66156651, 18.94434613,\n",
       "       15.26019314, 11.47089823, 19.93329232, 26.99842469, 29.45452148,\n",
       "       33.89343581, 45.17945396, 29.09858273, 20.76750823, 12.0158643 ])"
      ]
     },
     "metadata": {},
     "execution_count": 61
    }
   ],
   "source": [
    "samples[999, :]"
   ]
  },
  {
   "cell_type": "code",
   "execution_count": null,
   "metadata": {},
   "outputs": [],
   "source": []
  }
 ]
}