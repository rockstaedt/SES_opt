{
 "metadata": {
  "language_info": {
   "codemirror_mode": {
    "name": "ipython",
    "version": 3
   },
   "file_extension": ".py",
   "mimetype": "text/x-python",
   "name": "python",
   "nbconvert_exporter": "python",
   "pygments_lexer": "ipython3",
   "version": "3.9.0-final"
  },
  "orig_nbformat": 2,
  "kernelspec": {
   "name": "python3",
   "display_name": "Python 3",
   "language": "python"
  }
 },
 "nbformat": 4,
 "nbformat_minor": 2,
 "cells": [
  {
   "cell_type": "code",
   "execution_count": 53,
   "metadata": {},
   "outputs": [],
   "source": [
    "import numpy as np\n",
    "from scipy.stats import norm\n",
    "import scipy.stats\n",
    "import matplotlib.pyplot as plt"
   ]
  },
  {
   "cell_type": "code",
   "execution_count": 2,
   "metadata": {},
   "outputs": [],
   "source": [
    "def get_lhc_samples(values:list, sample_size=1000, seed=12):\n",
    "    \"\"\"\n",
    "    This function creates a vector of samples using the Latin Hypercube\n",
    "    technique.\n",
    "    \"\"\"\n",
    "\n",
    "    sample_vectors = []\n",
    "    np.random.seed(seed)\n",
    "    for value in values:\n",
    "        help_array = []\n",
    "        std = np.sqrt(value*(1/3))\n",
    "        mn = value-std*3     #intervall of 99.73 values\n",
    "        mx = value+std*3\n",
    "\n",
    "        points = np.linspace(mn, mx, num=sample_size+1)\n",
    "        intervals = np.array([points[:-1], points[1:]]).transpose()\n",
    "\n",
    "        for j in range(sample_size):\n",
    "            x = np.random.uniform(intervals[j][0],intervals[j][1],1)[0]\n",
    "            help_array.append(x)\n",
    "\n",
    "        np.random.shuffle(help_array)\n",
    "        sample_vectors.append(help_array)\n",
    "\n",
    "    sample_vectors = np.array(sample_vectors)\n",
    "\n",
    "    return  sample_vectors.transpose()"
   ]
  },
  {
   "cell_type": "code",
   "execution_count": 123,
   "metadata": {},
   "outputs": [],
   "source": [
    "LOADS = [0,8,8,10,10,10,16,22,24,26,32,30,28,22,18,16,16,20,24,28,34,38,30,22,12]"
   ]
  },
  {
   "cell_type": "code",
   "execution_count": 157,
   "metadata": {},
   "outputs": [],
   "source": [
    "\n",
    "sample_vector = []\n",
    "sample_size = 4\n",
    "np.random.seed(17)\n",
    "for v in LOADS:\n",
    "\n",
    "    perc_arr = []\n",
    "    help_array = []\n",
    "\n",
    "    if v == 0:\n",
    "        help_array = np.zeros(sample_size)\n",
    "    else:\n",
    "        value = v\n",
    "        std = np.sqrt(value*(1/3))\n",
    "        mn = value-std*3     #intervall of 99.73 values\n",
    "        mx = value+std*3\n",
    "\n",
    "\n",
    "        i = 0\n",
    "        perc = 1/sample_size\n",
    "        while i < 1:\n",
    "            perc_arr.append(i)\n",
    "            i += perc\n",
    "\n",
    "        if len(perc_arr) != sample_size+1:\n",
    "            perc_arr.append(0.999999999999999)\n",
    "\n",
    "        perc_arr[0] += 0.0000000000000001\n",
    "        perc_arr\n",
    "\n",
    "        for j in range(len(perc_arr)-1):\n",
    "            x = np.random.uniform(norm.ppf(perc_arr[j], loc=value, scale = np.sqrt(value*(1/3))),norm.ppf(perc_arr[j+1], loc=value, scale = np.sqrt(value*(1/3))))\n",
    "            help_array.append(x)\n",
    "\n",
    "\n",
    "    np.random.shuffle(help_array)\n",
    "    sample_vector.append(np.array(help_array))\n",
    "\n",
    "\n",
    "sample_vector = np.array(sample_vector)\n",
    "sample_vector = sample_vector.transpose()\n"
   ]
  },
  {
   "cell_type": "code",
   "execution_count": 162,
   "metadata": {},
   "outputs": [
    {
     "output_type": "execute_result",
     "data": {
      "text/plain": [
       "array([[ 0.        ,  7.87759159,  1.66779769, 10.8034171 , 10.58817691,\n",
       "         0.75529654, 15.24062535, 21.40959781, 25.45596871, 21.51991262,\n",
       "        31.89485296, 29.10264497, 26.27868258, 29.93724889, 28.98659129,\n",
       "         0.84995432, 16.23143006, 19.9791133 , 11.94411725, 36.95406408,\n",
       "        49.88672754, 57.49906977, 31.15337313, 23.42839472, 12.92116322],\n",
       "       [ 0.        ,  8.88866299,  6.9415882 ,  7.07762474, 18.19256438,\n",
       "         8.94576547,  0.08866291,  2.98345023, 26.93664316, 27.54279496,\n",
       "        12.25345845, 31.23874849, 51.74537037, 20.67360028, 18.80739861,\n",
       "        18.63387972, 27.79280707,  9.8753115 , 24.23781126, 29.76977135,\n",
       "        30.82065895, 38.3121045 , 48.47577399, 36.49835319, 27.25371687],\n",
       "       [ 0.        ,  4.97871896,  8.3941092 , 18.5518515 ,  0.19541245,\n",
       "        10.18583317, 27.85556265, 22.21639278, 22.96957598, 45.91307762,\n",
       "        32.75256061, 54.06373077, 24.9548746 , 18.45884911,  5.11764926,\n",
       "        17.13306673, -0.22752539, 31.08829281, 23.39328153, 27.68378337,\n",
       "        34.91884692, 29.77056679, 27.07061857, 20.51792725, 10.70683467],\n",
       "       [ 0.        , 13.96951027, 20.32375304,  8.83159797,  8.76993985,\n",
       "        11.96436339, 17.23629978, 32.58360734,  7.73986224, 24.28032436,\n",
       "        46.5397481 ,  5.56764871, 28.73383186, 22.43175648, 17.46281087,\n",
       "        14.82454121, 15.28413908, 21.45046559, 33.9899262 , 14.74934149,\n",
       "        32.07508874, 37.87498782, 28.89696839, 17.88779389,  6.74285879]])"
      ]
     },
     "metadata": {},
     "execution_count": 162
    }
   ],
   "source": [
    "sample_vector"
   ]
  },
  {
   "cell_type": "code",
   "execution_count": 175,
   "metadata": {},
   "outputs": [],
   "source": [
    "def get_lhc_samples(values:list, sample_size=1000, seed=12):\n",
    "    \"\"\"\n",
    "    This function creates a vector of samples using the Latin Hypercube\n",
    "    technique.\n",
    "    \"\"\"\n",
    "\n",
    "    sample_vector = []\n",
    "    \n",
    "    np.random.seed(seed)\n",
    "    for v in values:\n",
    "\n",
    "        perc_arr = []\n",
    "        help_array = []\n",
    "\n",
    "        if v == 0:\n",
    "            help_array = np.zeros(sample_size)\n",
    "        else:\n",
    "            value = v\n",
    "            std = np.sqrt(value*(1/3))\n",
    "            #mn = value-std*3     \n",
    "            #mx = value+std*3\n",
    "\n",
    "\n",
    "            i = 0\n",
    "            perc = 1/sample_size\n",
    "            while i < 1:\n",
    "                perc_arr.append(i)\n",
    "                i += perc\n",
    "\n",
    "            if len(perc_arr) != sample_size+1:\n",
    "                perc_arr.append(0.999999999999999)\n",
    "\n",
    "            perc_arr[0] += 0.0000000000000001\n",
    "            perc_arr\n",
    "\n",
    "            for j in range(len(perc_arr)-1):\n",
    "                x = np.random.uniform(norm.ppf(perc_arr[j], loc=value, scale = np.sqrt(value*(1/3))),norm.ppf(perc_arr[j+1], loc=value, scale = np.sqrt(value*(1/3))))\n",
    "                help_array.append(x)\n",
    "\n",
    "\n",
    "        np.random.shuffle(help_array)\n",
    "        sample_vector.append(np.array(help_array))\n",
    "\n",
    "\n",
    "    sample_vector = np.array(sample_vector)\n",
    "    sample_vector = sample_vector.transpose()\n",
    "\n",
    "    return  sample_vector"
   ]
  },
  {
   "cell_type": "code",
   "execution_count": 167,
   "metadata": {},
   "outputs": [],
   "source": [
    "test = get_lhc_samples(LOADS)"
   ]
  },
  {
   "cell_type": "code",
   "execution_count": 174,
   "metadata": {},
   "outputs": [
    {
     "output_type": "execute_result",
     "data": {
      "text/plain": [
       "array([ 0.        ,  8.98077338,  7.38708261,  7.33264211,  8.25096389,\n",
       "       10.17788665, 19.42332758, 22.12745386, 25.25172944, 28.5231249 ,\n",
       "       33.01517619, 29.15417536, 28.79117999, 24.46331685, 16.14777656,\n",
       "       15.37425754, 13.48267994, 17.22514799, 19.12547653, 28.64211149,\n",
       "       33.22010447, 36.56842253, 27.28129136, 20.11245034, 13.86353376])"
      ]
     },
     "metadata": {},
     "execution_count": 174
    }
   ],
   "source": [
    "test[500]"
   ]
  },
  {
   "cell_type": "code",
   "execution_count": null,
   "metadata": {},
   "outputs": [],
   "source": []
  }
 ]
}