{
 "cells": [
  {
   "cell_type": "code",
   "execution_count": 1,
   "metadata": {},
   "outputs": [],
   "source": [
    "import pyomo.environ as pyo\n",
    "from pyomo.opt import SolverFactory\n",
    "import numpy as np"
   ]
  },
  {
   "cell_type": "code",
   "execution_count": 2,
   "metadata": {},
   "outputs": [],
   "source": [
    "lmda = 21.97 #cent/kWh retail electricity price\n",
    "pl = [8,8,10,10,10,16,22,24,26,32,30,28,22,18,16,16,20,24,28,34,38,30,22,12] #load values\n",
    "\n",
    "# fuel cost parameters\n",
    "c2 = np.array([1.2,1.12])*0.001\n",
    "c1 = np.array([0.128,0.532])\n",
    "c  = np.array([2.12,12.8])*0.0001\n",
    "\n",
    "# min max power values\n",
    "pmin = np.array([0,0])\n",
    "pmax = np.array([20,40])"
   ]
  },
  {
   "cell_type": "code",
   "execution_count": 3,
   "metadata": {},
   "outputs": [
    {
     "name": "stdout",
     "output_type": "stream",
     "text": [
      "# ==========================================================\n",
      "# = Solver Results                                         =\n",
      "# ==========================================================\n",
      "# ----------------------------------------------------------\n",
      "#   Problem Information\n",
      "# ----------------------------------------------------------\n",
      "Problem: \n",
      "- Name: x169\n",
      "  Lower bound: -19937.196192000003\n",
      "  Upper bound: -19937.196192\n",
      "  Number of objectives: 1\n",
      "  Number of constraints: 169\n",
      "  Number of variables: 169\n",
      "  Number of binary variables: 48\n",
      "  Number of integer variables: 48\n",
      "  Number of continuous variables: 121\n",
      "  Number of nonzeros: 217\n",
      "  Sense: minimize\n",
      "# ----------------------------------------------------------\n",
      "#   Solver Information\n",
      "# ----------------------------------------------------------\n",
      "Solver: \n",
      "- Status: ok\n",
      "  Return code: 0\n",
      "  Message: Model was solved to optimality (subject to tolerances), and an optimal solution is available.\n",
      "  Termination condition: optimal\n",
      "  Termination message: Model was solved to optimality (subject to tolerances), and an optimal solution is available.\n",
      "  Wall time: 0.11590576171875\n",
      "  Error rc: 0\n",
      "  Time: 0.3008115291595459\n",
      "# ----------------------------------------------------------\n",
      "#   Solution Information\n",
      "# ----------------------------------------------------------\n",
      "Solution: \n",
      "- number of solutions: 0\n",
      "  number of solutions displayed: 0\n"
     ]
    }
   ],
   "source": [
    "# Dont properly understand Difference between Concrete and Abstract model\n",
    "model = pyo.ConcreteModel()\n",
    "\n",
    "#Hour Set\n",
    "model.H = pyo.RangeSet(0,23)\n",
    "\n",
    "#Generator Set\n",
    "model.G = pyo.RangeSet(0,1)\n",
    "\n",
    "#Variables\n",
    "model.pn = pyo.Var(model.H) #Net power needed from external network dependent on Hourly Set\n",
    "model.pg = pyo.Var(model.H,model.G,within=pyo.NonNegativeReals) #Power Generation of each Generator per Hour\n",
    "model.u = pyo.Var(model.H,model.G, within=pyo.Binary) # Unit commitment Variable for each Generator and Hour\n",
    "#model.x = pyo.Var(model.H,model.G,within=pyo.NonNegativeReals) # continuous Variable to substitue binary\n",
    "model.y = pyo.Var(model.H,model.G,within=pyo.NonNegativeReals) # helper variable to get rid of qudratic term in obj\n",
    "\n",
    "#Objective Function: First Part is Net power cost with DisCo, Second part is fuel costs\n",
    "\n",
    "\n",
    "model.OBJ = pyo.Objective(expr= \n",
    "                          sum(lmda*model.pn[h] for h in model.H)\n",
    "                         +sum(((c2[g]*model.y[h,g]) + c1[g]*model.pg[h,g] + c[g])*model.u[h,g] for h in model.H for g in model.G))\n",
    "\n",
    "\n",
    "\n",
    "#Load Constraint\n",
    "def loadc(model,H):\n",
    "    return sum(model.pg[H,g] for g in model.G) +model.pn[H] == pl[H]\n",
    "model.loadc = pyo.Constraint(model.H, rule = loadc)\n",
    "\n",
    "#Min-Constraint\n",
    "def minc(model,H,G):\n",
    "    return model.u[H,G]*pmin[G] <= model.pg[H,G] \n",
    "model.minc = pyo.Constraint(model.H,model.G, rule = minc)\n",
    "\n",
    "#Max-Constraint\n",
    "def maxc(model,H,G):\n",
    "    return model.u[H,G]*pmax[G] >= model.pg[H,G] \n",
    "model.maxc = pyo.Constraint(model.H,model.G, rule = maxc)\n",
    "\n",
    "#Continuous-Binary constraint\n",
    "#def cbc(model,H,G):\n",
    "#    return (model.x[H,G]**2)-model.x[H,G] == 0\n",
    "#model.cbc = pyo.Constraint(model.H,model.G, rule = cbc)\n",
    "\n",
    "#Helper-Variable-Constraint\n",
    "def hvc(model,H,G):\n",
    "    return model.y[H,G] == model.pg[H,G]**2\n",
    "model.hvc = pyo.Constraint(model.H,model.G, rule = hvc)\n",
    "\n",
    "\n",
    "opt = pyo.SolverFactory('gurobi')\n",
    "opt.options['NonConvex'] = 2\n",
    "\n",
    "succes = opt.solve(model)\n",
    "succes.write()    \n"
   ]
  },
  {
   "cell_type": "code",
   "execution_count": null,
   "metadata": {},
   "outputs": [],
   "source": []
  }
 ],
 "metadata": {
  "kernelspec": {
   "display_name": "Python 3",
   "language": "python",
   "name": "python3"
  },
  "language_info": {
   "codemirror_mode": {
    "name": "ipython",
    "version": 3
   },
   "file_extension": ".py",
   "mimetype": "text/x-python",
   "name": "python",
   "nbconvert_exporter": "python",
   "pygments_lexer": "ipython3",
   "version": "3.7.6"
  }
 },
 "nbformat": 4,
 "nbformat_minor": 4
}
